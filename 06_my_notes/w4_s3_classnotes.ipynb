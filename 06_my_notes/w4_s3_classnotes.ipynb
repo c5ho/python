{
 "cells": [
  {
   "cell_type": "code",
   "execution_count": 1,
   "id": "9703d1e5",
   "metadata": {},
   "outputs": [
    {
     "data": {
      "text/plain": [
       "False"
      ]
     },
     "execution_count": 1,
     "metadata": {},
     "output_type": "execute_result"
    }
   ],
   "source": [
    "not True"
   ]
  },
  {
   "cell_type": "code",
   "execution_count": 2,
   "id": "968e28cf",
   "metadata": {},
   "outputs": [
    {
     "data": {
      "text/plain": [
       "True"
      ]
     },
     "execution_count": 2,
     "metadata": {},
     "output_type": "execute_result"
    }
   ],
   "source": [
    "not False"
   ]
  },
  {
   "cell_type": "code",
   "execution_count": 3,
   "id": "d831afe7",
   "metadata": {},
   "outputs": [
    {
     "data": {
      "text/plain": [
       "False"
      ]
     },
     "execution_count": 3,
     "metadata": {},
     "output_type": "execute_result"
    }
   ],
   "source": [
    "not 3 == 3"
   ]
  },
  {
   "cell_type": "code",
   "execution_count": 4,
   "id": "b9a13300",
   "metadata": {},
   "outputs": [
    {
     "data": {
      "text/plain": [
       "False"
      ]
     },
     "execution_count": 4,
     "metadata": {},
     "output_type": "execute_result"
    }
   ],
   "source": [
    "not (3 == 3)"
   ]
  },
  {
   "cell_type": "code",
   "execution_count": 5,
   "id": "10c595eb",
   "metadata": {},
   "outputs": [
    {
     "name": "stdout",
     "output_type": "stream",
     "text": [
      "/bin/bash: line 1: 3: command not found\n"
     ]
    }
   ],
   "source": [
    "!3"
   ]
  },
  {
   "cell_type": "code",
   "execution_count": 6,
   "id": "52cfe352",
   "metadata": {},
   "outputs": [
    {
     "name": "stdout",
     "output_type": "stream",
     "text": [
      "/bin/bash: line 1: 3: command not found\n"
     ]
    }
   ],
   "source": [
    "! 3"
   ]
  },
  {
   "cell_type": "code",
   "execution_count": 7,
   "id": "80c4503e",
   "metadata": {},
   "outputs": [
    {
     "data": {
      "text/plain": [
       "'True'"
      ]
     },
     "execution_count": 7,
     "metadata": {},
     "output_type": "execute_result"
    }
   ],
   "source": [
    "True and 'True'\n"
   ]
  },
  {
   "cell_type": "code",
   "execution_count": 8,
   "id": "56802197",
   "metadata": {},
   "outputs": [
    {
     "ename": "SyntaxError",
     "evalue": "invalid syntax (3038719790.py, line 1)",
     "output_type": "error",
     "traceback": [
      "\u001b[0;36m  Cell \u001b[0;32mIn[8], line 1\u001b[0;36m\u001b[0m\n\u001b[0;31m    and True\u001b[0m\n\u001b[0m    ^\u001b[0m\n\u001b[0;31mSyntaxError\u001b[0m\u001b[0;31m:\u001b[0m invalid syntax\n"
     ]
    }
   ],
   "source": [
    "and True"
   ]
  },
  {
   "cell_type": "code",
   "execution_count": 10,
   "id": "755cee79",
   "metadata": {},
   "outputs": [
    {
     "data": {
      "text/plain": [
       "''"
      ]
     },
     "execution_count": 10,
     "metadata": {},
     "output_type": "execute_result"
    }
   ],
   "source": [
    "\"\" and True #empty string considered falsy so returns empty string"
   ]
  },
  {
   "cell_type": "code",
   "execution_count": 11,
   "id": "d8b89fa4",
   "metadata": {},
   "outputs": [
    {
     "data": {
      "text/plain": [
       "True"
      ]
     },
     "execution_count": 11,
     "metadata": {},
     "output_type": "execute_result"
    }
   ],
   "source": [
    "'blah' and True"
   ]
  },
  {
   "cell_type": "code",
   "execution_count": 12,
   "id": "e24f8e42",
   "metadata": {},
   "outputs": [
    {
     "data": {
      "text/plain": [
       "False"
      ]
     },
     "execution_count": 12,
     "metadata": {},
     "output_type": "execute_result"
    }
   ],
   "source": [
    "'blah' and False"
   ]
  },
  {
   "cell_type": "code",
   "execution_count": 13,
   "id": "9c5f621a",
   "metadata": {},
   "outputs": [
    {
     "data": {
      "text/plain": [
       "0"
      ]
     },
     "execution_count": 13,
     "metadata": {},
     "output_type": "execute_result"
    }
   ],
   "source": [
    "0 and 1"
   ]
  },
  {
   "cell_type": "code",
   "execution_count": 14,
   "id": "f5d7bf15",
   "metadata": {},
   "outputs": [
    {
     "data": {
      "text/plain": [
       "0"
      ]
     },
     "execution_count": 14,
     "metadata": {},
     "output_type": "execute_result"
    }
   ],
   "source": [
    "1 and 0"
   ]
  },
  {
   "cell_type": "code",
   "execution_count": 15,
   "id": "90bf835d",
   "metadata": {},
   "outputs": [
    {
     "data": {
      "text/plain": [
       "1"
      ]
     },
     "execution_count": 15,
     "metadata": {},
     "output_type": "execute_result"
    }
   ],
   "source": [
    "1 and 1"
   ]
  },
  {
   "cell_type": "code",
   "execution_count": 16,
   "id": "9c29fcce",
   "metadata": {},
   "outputs": [
    {
     "name": "stdout",
     "output_type": "stream",
     "text": [
      "Num is positive\n"
     ]
    }
   ],
   "source": [
    "num = 10\n",
    "if num >= 0:\n",
    "  print('Num is positive')"
   ]
  },
  {
   "cell_type": "code",
   "execution_count": 18,
   "id": "2df6db1e",
   "metadata": {},
   "outputs": [
    {
     "name": "stdout",
     "output_type": "stream",
     "text": [
      "Num is negative\n"
     ]
    }
   ],
   "source": [
    "num = -1\n",
    "if num >= 0:\n",
    "  print('Num is positive')\n",
    "else: \n",
    "  print('Num is negative')"
   ]
  },
  {
   "cell_type": "code",
   "execution_count": 20,
   "id": "cd3dbb0c",
   "metadata": {},
   "outputs": [
    {
     "name": "stdout",
     "output_type": "stream",
     "text": [
      "Num is negative\n"
     ]
    }
   ],
   "source": [
    "num = -1\n",
    "if num >= 0:\n",
    "  print('Num is positive')\n",
    "print('Num is negative')"
   ]
  },
  {
   "cell_type": "code",
   "execution_count": 21,
   "id": "31d2efd3",
   "metadata": {},
   "outputs": [
    {
     "data": {
      "text/plain": [
       "'hello'"
      ]
     },
     "execution_count": 21,
     "metadata": {},
     "output_type": "execute_result"
    }
   ],
   "source": [
    "'''hello'''"
   ]
  },
  {
   "cell_type": "code",
   "execution_count": 3,
   "id": "3406ce00",
   "metadata": {},
   "outputs": [],
   "source": [
    "grades = ['K', 1, 2, 3]\n"
   ]
  },
  {
   "cell_type": "code",
   "execution_count": 4,
   "id": "97e6e1e6",
   "metadata": {},
   "outputs": [
    {
     "data": {
      "text/plain": [
       "['K', 1, 2, 3]"
      ]
     },
     "execution_count": 4,
     "metadata": {},
     "output_type": "execute_result"
    }
   ],
   "source": [
    "grades"
   ]
  },
  {
   "cell_type": "code",
   "execution_count": 5,
   "id": "d94a44d6",
   "metadata": {},
   "outputs": [
    {
     "data": {
      "text/plain": [
       "'K'"
      ]
     },
     "execution_count": 5,
     "metadata": {},
     "output_type": "execute_result"
    }
   ],
   "source": [
    "grades[0]"
   ]
  },
  {
   "cell_type": "code",
   "execution_count": 6,
   "id": "2188a5ee",
   "metadata": {},
   "outputs": [
    {
     "data": {
      "text/plain": [
       "2"
      ]
     },
     "execution_count": 6,
     "metadata": {},
     "output_type": "execute_result"
    }
   ],
   "source": [
    "grades[-2]"
   ]
  },
  {
   "cell_type": "code",
   "execution_count": 9,
   "id": "b5a42c49",
   "metadata": {},
   "outputs": [
    {
     "data": {
      "text/plain": [
       "[1, 2, 3]"
      ]
     },
     "execution_count": 9,
     "metadata": {},
     "output_type": "execute_result"
    }
   ],
   "source": [
    "grades[-3:]"
   ]
  },
  {
   "cell_type": "code",
   "execution_count": 14,
   "id": "6e50b854",
   "metadata": {},
   "outputs": [
    {
     "data": {
      "text/plain": [
       "[1, 2]"
      ]
     },
     "execution_count": 14,
     "metadata": {},
     "output_type": "execute_result"
    }
   ],
   "source": [
    "grades[-3:3]"
   ]
  },
  {
   "cell_type": "code",
   "execution_count": 15,
   "id": "5f9313a9",
   "metadata": {},
   "outputs": [
    {
     "data": {
      "text/plain": [
       "False"
      ]
     },
     "execution_count": 15,
     "metadata": {},
     "output_type": "execute_result"
    }
   ],
   "source": [
    "'silent' in 'listen'"
   ]
  },
  {
   "cell_type": "code",
   "execution_count": 16,
   "id": "5d4a2637",
   "metadata": {},
   "outputs": [
    {
     "data": {
      "text/plain": [
       "True"
      ]
     },
     "execution_count": 16,
     "metadata": {},
     "output_type": "execute_result"
    }
   ],
   "source": [
    "'silent' in 'silent'"
   ]
  },
  {
   "cell_type": "code",
   "execution_count": 17,
   "id": "4dde7d84",
   "metadata": {},
   "outputs": [
    {
     "ename": "AttributeError",
     "evalue": "'str' object has no attribute 'sorted'",
     "output_type": "error",
     "traceback": [
      "\u001b[0;31m---------------------------------------------------------------------------\u001b[0m",
      "\u001b[0;31mAttributeError\u001b[0m                            Traceback (most recent call last)",
      "Cell \u001b[0;32mIn[17], line 1\u001b[0m\n\u001b[0;32m----> 1\u001b[0m \u001b[38;5;124;43m'\u001b[39;49m\u001b[38;5;124;43msilent\u001b[39;49m\u001b[38;5;124;43m'\u001b[39;49m\u001b[38;5;241;43m.\u001b[39;49m\u001b[43msorted\u001b[49m() \u001b[38;5;129;01min\u001b[39;00m \u001b[38;5;124m'\u001b[39m\u001b[38;5;124mlisten\u001b[39m\u001b[38;5;124m'\u001b[39m\u001b[38;5;241m.\u001b[39msorted()\n",
      "\u001b[0;31mAttributeError\u001b[0m: 'str' object has no attribute 'sorted'"
     ]
    }
   ],
   "source": [
    "'silent'.sorted() in 'listen'.sorted()"
   ]
  },
  {
   "cell_type": "code",
   "execution_count": 18,
   "id": "496da9e0",
   "metadata": {},
   "outputs": [
    {
     "ename": "AttributeError",
     "evalue": "'str' object has no attribute 'sorted'",
     "output_type": "error",
     "traceback": [
      "\u001b[0;31m---------------------------------------------------------------------------\u001b[0m",
      "\u001b[0;31mAttributeError\u001b[0m                            Traceback (most recent call last)",
      "Cell \u001b[0;32mIn[18], line 1\u001b[0m\n\u001b[0;32m----> 1\u001b[0m word1 \u001b[38;5;241m=\u001b[39m \u001b[38;5;124;43m'\u001b[39;49m\u001b[38;5;124;43msilent\u001b[39;49m\u001b[38;5;124;43m'\u001b[39;49m\u001b[38;5;241;43m.\u001b[39;49m\u001b[43msorted\u001b[49m()\n",
      "\u001b[0;31mAttributeError\u001b[0m: 'str' object has no attribute 'sorted'"
     ]
    }
   ],
   "source": [
    "word1 = 'silent'.sorted()"
   ]
  },
  {
   "cell_type": "code",
   "execution_count": 19,
   "id": "caefd744",
   "metadata": {},
   "outputs": [],
   "source": [
    "word1 = 'silent'"
   ]
  },
  {
   "cell_type": "code",
   "execution_count": 20,
   "id": "d20c16e1",
   "metadata": {},
   "outputs": [],
   "source": [
    "word2 = 'listen'"
   ]
  },
  {
   "cell_type": "code",
   "execution_count": 22,
   "id": "546d637c",
   "metadata": {},
   "outputs": [],
   "source": [
    "result1 = sorted(word1)"
   ]
  },
  {
   "cell_type": "code",
   "execution_count": 23,
   "id": "6fec9b11",
   "metadata": {},
   "outputs": [],
   "source": [
    "\n",
    "result2 = sorted(word2)"
   ]
  },
  {
   "cell_type": "code",
   "execution_count": 24,
   "id": "ab0388ea",
   "metadata": {},
   "outputs": [
    {
     "data": {
      "text/plain": [
       "['e', 'i', 'l', 'n', 's', 't']"
      ]
     },
     "execution_count": 24,
     "metadata": {},
     "output_type": "execute_result"
    }
   ],
   "source": [
    "result1"
   ]
  },
  {
   "cell_type": "code",
   "execution_count": 25,
   "id": "2682f7ed",
   "metadata": {},
   "outputs": [
    {
     "data": {
      "text/plain": [
       "['e', 'i', 'l', 'n', 's', 't']"
      ]
     },
     "execution_count": 25,
     "metadata": {},
     "output_type": "execute_result"
    }
   ],
   "source": [
    "result2"
   ]
  },
  {
   "cell_type": "code",
   "execution_count": 26,
   "id": "47bcffbf",
   "metadata": {},
   "outputs": [
    {
     "data": {
      "text/plain": [
       "False"
      ]
     },
     "execution_count": 26,
     "metadata": {},
     "output_type": "execute_result"
    }
   ],
   "source": [
    "result1 in result2"
   ]
  },
  {
   "cell_type": "code",
   "execution_count": 27,
   "id": "828f9d9c",
   "metadata": {},
   "outputs": [
    {
     "data": {
      "text/plain": [
       "True"
      ]
     },
     "execution_count": 27,
     "metadata": {},
     "output_type": "execute_result"
    }
   ],
   "source": [
    "result1 == result2"
   ]
  },
  {
   "cell_type": "code",
   "execution_count": 50,
   "id": "90ab80ae",
   "metadata": {},
   "outputs": [
    {
     "ename": "NameError",
     "evalue": "name 'lower' is not defined",
     "output_type": "error",
     "traceback": [
      "\u001b[0;31m---------------------------------------------------------------------------\u001b[0m",
      "\u001b[0;31mNameError\u001b[0m                                 Traceback (most recent call last)",
      "Cell \u001b[0;32mIn[50], line 1\u001b[0m\n\u001b[0;32m----> 1\u001b[0m \u001b[43mlower\u001b[49m(\u001b[38;5;124m'\u001b[39m\u001b[38;5;124mHello\u001b[39m\u001b[38;5;124m'\u001b[39m)\n",
      "\u001b[0;31mNameError\u001b[0m: name 'lower' is not defined"
     ]
    }
   ],
   "source": [
    "lower('Hello')"
   ]
  },
  {
   "cell_type": "code",
   "execution_count": 71,
   "id": "0197a5c4",
   "metadata": {},
   "outputs": [],
   "source": [
    "def anagram_checker(word_a, word_b):\n",
    "  if len(word_a) == len(word_b):\n",
    "    if sorted(word_a.lower()) == sorted(word_b.lower()):\n",
    "      return True\n",
    "  return False"
   ]
  },
  {
   "cell_type": "code",
   "execution_count": 72,
   "id": "b07b42ca",
   "metadata": {},
   "outputs": [
    {
     "data": {
      "text/plain": [
       "True"
      ]
     },
     "execution_count": 72,
     "metadata": {},
     "output_type": "execute_result"
    }
   ],
   "source": [
    "anagram_checker('blah', 'Halb')"
   ]
  },
  {
   "cell_type": "code",
   "execution_count": 73,
   "id": "1e0c0429",
   "metadata": {},
   "outputs": [],
   "source": [
    "# Example outputs:\n",
    "# ```python\n",
    "# anagram_checker(\"Silent\", \"listen\") # True\n",
    "# anagram_checker(\"Silent\", \"Night\") # False\n",
    "# anagram_checker(\"night\", \"Thing\") # True\n",
    "# ```"
   ]
  },
  {
   "cell_type": "code",
   "execution_count": 74,
   "id": "c197b848",
   "metadata": {},
   "outputs": [
    {
     "data": {
      "text/plain": [
       "True"
      ]
     },
     "execution_count": 74,
     "metadata": {},
     "output_type": "execute_result"
    }
   ],
   "source": [
    "anagram_checker(\"Silent\", \"listen\")\n"
   ]
  },
  {
   "cell_type": "code",
   "execution_count": 75,
   "id": "09ee4b21",
   "metadata": {},
   "outputs": [
    {
     "data": {
      "text/plain": [
       "False"
      ]
     },
     "execution_count": 75,
     "metadata": {},
     "output_type": "execute_result"
    }
   ],
   "source": [
    "anagram_checker(\"Silent\", \"Night\")\n"
   ]
  },
  {
   "cell_type": "code",
   "execution_count": 76,
   "id": "3a94c3a6",
   "metadata": {},
   "outputs": [
    {
     "data": {
      "text/plain": [
       "True"
      ]
     },
     "execution_count": 76,
     "metadata": {},
     "output_type": "execute_result"
    }
   ],
   "source": [
    "anagram_checker(\"night\", \"Thing\")"
   ]
  },
  {
   "cell_type": "code",
   "execution_count": 98,
   "id": "918affe4",
   "metadata": {},
   "outputs": [],
   "source": [
    "def anagram_checker(word_a, word_b, is_case_sensitive):\n",
    "  if is_case_sensitive is False:\n",
    "    word_a = word_a.lower()\n",
    "    word_b = word_b.lower()\n",
    "  if len(word_a) == len(word_b):\n",
    "    if sorted(word_a) == sorted(word_b):\n",
    "      return True\n",
    "  return False"
   ]
  },
  {
   "cell_type": "code",
   "execution_count": 99,
   "id": "992bc3fe",
   "metadata": {},
   "outputs": [
    {
     "data": {
      "text/plain": [
       "True"
      ]
     },
     "execution_count": 99,
     "metadata": {},
     "output_type": "execute_result"
    }
   ],
   "source": [
    "anagram_checker(\"Silent\", \"listen\", False) # True"
   ]
  },
  {
   "cell_type": "code",
   "execution_count": 100,
   "id": "575248f1",
   "metadata": {},
   "outputs": [
    {
     "data": {
      "text/plain": [
       "False"
      ]
     },
     "execution_count": 100,
     "metadata": {},
     "output_type": "execute_result"
    }
   ],
   "source": [
    "anagram_checker(\"Silent\", \"Listen\", True) # False"
   ]
  },
  {
   "cell_type": "code",
   "execution_count": null,
   "id": "83b8730b",
   "metadata": {},
   "outputs": [],
   "source": []
  }
 ],
 "metadata": {
  "kernelspec": {
   "display_name": "dsi_participant",
   "language": "python",
   "name": "python3"
  },
  "language_info": {
   "codemirror_mode": {
    "name": "ipython",
    "version": 3
   },
   "file_extension": ".py",
   "mimetype": "text/x-python",
   "name": "python",
   "nbconvert_exporter": "python",
   "pygments_lexer": "ipython3",
   "version": "3.9.21"
  }
 },
 "nbformat": 4,
 "nbformat_minor": 5
}
