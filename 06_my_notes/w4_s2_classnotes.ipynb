{
 "cells": [
  {
   "cell_type": "code",
   "execution_count": 2,
   "id": "9d9e2a6b",
   "metadata": {},
   "outputs": [
    {
     "data": {
      "text/plain": [
       "11"
      ]
     },
     "execution_count": 2,
     "metadata": {},
     "output_type": "execute_result"
    }
   ],
   "source": [
    "len('hello world')"
   ]
  },
  {
   "cell_type": "code",
   "execution_count": 3,
   "id": "919d2320",
   "metadata": {},
   "outputs": [
    {
     "ename": "NameError",
     "evalue": "name 'hello' is not defined",
     "output_type": "error",
     "traceback": [
      "\u001b[0;31m---------------------------------------------------------------------------\u001b[0m",
      "\u001b[0;31mNameError\u001b[0m                                 Traceback (most recent call last)",
      "Cell \u001b[0;32mIn[3], line 1\u001b[0m\n\u001b[0;32m----> 1\u001b[0m \u001b[38;5;28mlen\u001b[39m(\u001b[43mhello\u001b[49m)\n",
      "\u001b[0;31mNameError\u001b[0m: name 'hello' is not defined"
     ]
    }
   ],
   "source": [
    "len(hello)"
   ]
  },
  {
   "cell_type": "code",
   "execution_count": 4,
   "id": "c6c21158",
   "metadata": {},
   "outputs": [
    {
     "ename": "TypeError",
     "evalue": "object of type 'int' has no len()",
     "output_type": "error",
     "traceback": [
      "\u001b[0;31m---------------------------------------------------------------------------\u001b[0m",
      "\u001b[0;31mTypeError\u001b[0m                                 Traceback (most recent call last)",
      "Cell \u001b[0;32mIn[4], line 1\u001b[0m\n\u001b[0;32m----> 1\u001b[0m \u001b[38;5;28;43mlen\u001b[39;49m\u001b[43m(\u001b[49m\u001b[38;5;241;43m123\u001b[39;49m\u001b[43m)\u001b[49m\n",
      "\u001b[0;31mTypeError\u001b[0m: object of type 'int' has no len()"
     ]
    }
   ],
   "source": [
    "len(123)"
   ]
  },
  {
   "cell_type": "code",
   "execution_count": 5,
   "id": "53fc263c",
   "metadata": {},
   "outputs": [
    {
     "data": {
      "text/plain": [
       "3"
      ]
     },
     "execution_count": 5,
     "metadata": {},
     "output_type": "execute_result"
    }
   ],
   "source": [
    "len('123')"
   ]
  },
  {
   "cell_type": "code",
   "execution_count": 6,
   "id": "c3412752",
   "metadata": {},
   "outputs": [
    {
     "data": {
      "text/plain": [
       "'HELLO'"
      ]
     },
     "execution_count": 6,
     "metadata": {},
     "output_type": "execute_result"
    }
   ],
   "source": [
    "'Hello'.upper()\n"
   ]
  },
  {
   "cell_type": "code",
   "execution_count": 8,
   "id": "2eb4233b",
   "metadata": {},
   "outputs": [
    {
     "data": {
      "text/plain": [
       "0"
      ]
     },
     "execution_count": 8,
     "metadata": {},
     "output_type": "execute_result"
    }
   ],
   "source": [
    "'This string is normal'.count('e')"
   ]
  },
  {
   "cell_type": "code",
   "execution_count": 9,
   "id": "2f96b665",
   "metadata": {},
   "outputs": [
    {
     "data": {
      "text/plain": [
       "True"
      ]
     },
     "execution_count": 9,
     "metadata": {},
     "output_type": "execute_result"
    }
   ],
   "source": [
    "'file_name.csv'.endswith('.csv')"
   ]
  },
  {
   "cell_type": "code",
   "execution_count": 10,
   "id": "8e11d382",
   "metadata": {},
   "outputs": [
    {
     "data": {
      "text/plain": [
       "'file_with_spaces.csv'"
      ]
     },
     "execution_count": 10,
     "metadata": {},
     "output_type": "execute_result"
    }
   ],
   "source": [
    "'file with spaces.csv'.replace(' ', '_')"
   ]
  },
  {
   "cell_type": "code",
   "execution_count": 11,
   "id": "a0386fb3",
   "metadata": {},
   "outputs": [
    {
     "data": {
      "text/plain": [
       "['a', 'e', 'e', 'i', 'l', 'n', 'p', 'p', 'p']"
      ]
     },
     "execution_count": 11,
     "metadata": {},
     "output_type": "execute_result"
    }
   ],
   "source": [
    "fruit = 'pineapple'\n",
    "sorted(fruit)"
   ]
  },
  {
   "cell_type": "code",
   "execution_count": 13,
   "id": "d3569cab",
   "metadata": {},
   "outputs": [
    {
     "data": {
      "text/plain": [
       "['A', 'P', 'e', 'e', 'i', 'l', 'n', 'p', 'p']"
      ]
     },
     "execution_count": 13,
     "metadata": {},
     "output_type": "execute_result"
    }
   ],
   "source": [
    "fruit = 'PineApple'\n",
    "sorted(fruit)"
   ]
  },
  {
   "cell_type": "code",
   "execution_count": 14,
   "id": "6e327580",
   "metadata": {},
   "outputs": [
    {
     "ename": "TypeError",
     "evalue": "ord() takes exactly one argument (0 given)",
     "output_type": "error",
     "traceback": [
      "\u001b[0;31m---------------------------------------------------------------------------\u001b[0m",
      "\u001b[0;31mTypeError\u001b[0m                                 Traceback (most recent call last)",
      "Cell \u001b[0;32mIn[14], line 1\u001b[0m\n\u001b[0;32m----> 1\u001b[0m \u001b[38;5;28;43mord\u001b[39;49m\u001b[43m(\u001b[49m\u001b[43m)\u001b[49m\n",
      "\u001b[0;31mTypeError\u001b[0m: ord() takes exactly one argument (0 given)"
     ]
    }
   ],
   "source": [
    "ord()\n"
   ]
  },
  {
   "cell_type": "code",
   "execution_count": 15,
   "id": "059689e5",
   "metadata": {},
   "outputs": [
    {
     "ename": "NameError",
     "evalue": "name 'A' is not defined",
     "output_type": "error",
     "traceback": [
      "\u001b[0;31m---------------------------------------------------------------------------\u001b[0m",
      "\u001b[0;31mNameError\u001b[0m                                 Traceback (most recent call last)",
      "Cell \u001b[0;32mIn[15], line 1\u001b[0m\n\u001b[0;32m----> 1\u001b[0m \u001b[38;5;28mord\u001b[39m(\u001b[43mA\u001b[49m)\n",
      "\u001b[0;31mNameError\u001b[0m: name 'A' is not defined"
     ]
    }
   ],
   "source": [
    "ord(A)"
   ]
  },
  {
   "cell_type": "code",
   "execution_count": 16,
   "id": "231bdd41",
   "metadata": {},
   "outputs": [
    {
     "data": {
      "text/plain": [
       "65"
      ]
     },
     "execution_count": 16,
     "metadata": {},
     "output_type": "execute_result"
    }
   ],
   "source": [
    "ord('A')"
   ]
  },
  {
   "cell_type": "code",
   "execution_count": 17,
   "id": "cfd05ef7",
   "metadata": {},
   "outputs": [
    {
     "ename": "AttributeError",
     "evalue": "'str' object has no attribute 'sorted'",
     "output_type": "error",
     "traceback": [
      "\u001b[0;31m---------------------------------------------------------------------------\u001b[0m",
      "\u001b[0;31mAttributeError\u001b[0m                            Traceback (most recent call last)",
      "Cell \u001b[0;32mIn[17], line 1\u001b[0m\n\u001b[0;32m----> 1\u001b[0m \u001b[38;5;124;43m'\u001b[39;49m\u001b[38;5;124;43mpineapple\u001b[39;49m\u001b[38;5;124;43m'\u001b[39;49m\u001b[38;5;241;43m.\u001b[39;49m\u001b[43msorted\u001b[49m()\n",
      "\u001b[0;31mAttributeError\u001b[0m: 'str' object has no attribute 'sorted'"
     ]
    }
   ],
   "source": [
    "'pineapple'.sorted()"
   ]
  },
  {
   "cell_type": "code",
   "execution_count": 19,
   "id": "e2da4ef4",
   "metadata": {},
   "outputs": [
    {
     "data": {
      "text/plain": [
       "'My intials are C.H.'"
      ]
     },
     "execution_count": 19,
     "metadata": {},
     "output_type": "execute_result"
    }
   ],
   "source": [
    "'My intials are {}.{}.'.format('C', 'H')"
   ]
  },
  {
   "cell_type": "code",
   "execution_count": 22,
   "id": "6c37dc0a",
   "metadata": {},
   "outputs": [
    {
     "name": "stdout",
     "output_type": "stream",
     "text": [
      "Hello Calvin\n"
     ]
    }
   ],
   "source": [
    "name = 'Calvin'\n",
    "print(f\"Hello {name}\")"
   ]
  },
  {
   "cell_type": "code",
   "execution_count": 23,
   "id": "0f676e11",
   "metadata": {},
   "outputs": [
    {
     "data": {
      "text/plain": [
       "'Hello Calvin'"
      ]
     },
     "execution_count": 23,
     "metadata": {},
     "output_type": "execute_result"
    }
   ],
   "source": [
    "f\"Hello {name}\""
   ]
  },
  {
   "cell_type": "code",
   "execution_count": 24,
   "id": "59d25d83",
   "metadata": {},
   "outputs": [],
   "source": [
    "first_name = 'Ada'\n",
    "last_name = \"Lovelace\""
   ]
  },
  {
   "cell_type": "code",
   "execution_count": 25,
   "id": "bb646804",
   "metadata": {},
   "outputs": [
    {
     "data": {
      "text/plain": [
       "\"Ada Love's initials are A.L.\""
      ]
     },
     "execution_count": 25,
     "metadata": {},
     "output_type": "execute_result"
    }
   ],
   "source": [
    "f'Ada Love\\'s initials are {first_name[0]}.{last_name[0]}.'"
   ]
  },
  {
   "cell_type": "code",
   "execution_count": 26,
   "id": "3d75c792",
   "metadata": {},
   "outputs": [],
   "source": [
    "season = 'summer'"
   ]
  },
  {
   "cell_type": "code",
   "execution_count": 27,
   "id": "4caeb9fc",
   "metadata": {},
   "outputs": [
    {
     "data": {
      "text/plain": [
       "'My favourite season is summer'"
      ]
     },
     "execution_count": 27,
     "metadata": {},
     "output_type": "execute_result"
    }
   ],
   "source": [
    "f'My favourite season is {season}'"
   ]
  },
  {
   "cell_type": "code",
   "execution_count": 28,
   "id": "79fb76a2",
   "metadata": {},
   "outputs": [
    {
     "data": {
      "text/plain": [
       "17"
      ]
     },
     "execution_count": 28,
     "metadata": {},
     "output_type": "execute_result"
    }
   ],
   "source": [
    "int('17')"
   ]
  },
  {
   "cell_type": "code",
   "execution_count": 29,
   "id": "a860048d",
   "metadata": {},
   "outputs": [
    {
     "ename": "ValueError",
     "evalue": "invalid literal for int() with base 10: '17.8'",
     "output_type": "error",
     "traceback": [
      "\u001b[0;31m---------------------------------------------------------------------------\u001b[0m",
      "\u001b[0;31mValueError\u001b[0m                                Traceback (most recent call last)",
      "Cell \u001b[0;32mIn[29], line 1\u001b[0m\n\u001b[0;32m----> 1\u001b[0m \u001b[38;5;28;43mint\u001b[39;49m\u001b[43m(\u001b[49m\u001b[38;5;124;43m'\u001b[39;49m\u001b[38;5;124;43m17.8\u001b[39;49m\u001b[38;5;124;43m'\u001b[39;49m\u001b[43m)\u001b[49m\n",
      "\u001b[0;31mValueError\u001b[0m: invalid literal for int() with base 10: '17.8'"
     ]
    }
   ],
   "source": [
    "int('17.8')"
   ]
  },
  {
   "cell_type": "code",
   "execution_count": 30,
   "id": "aebbe786",
   "metadata": {},
   "outputs": [
    {
     "ename": "ValueError",
     "evalue": "invalid literal for int() with base 10: 'me'",
     "output_type": "error",
     "traceback": [
      "\u001b[0;31m---------------------------------------------------------------------------\u001b[0m",
      "\u001b[0;31mValueError\u001b[0m                                Traceback (most recent call last)",
      "Cell \u001b[0;32mIn[30], line 1\u001b[0m\n\u001b[0;32m----> 1\u001b[0m \u001b[38;5;28;43mint\u001b[39;49m\u001b[43m(\u001b[49m\u001b[38;5;124;43m'\u001b[39;49m\u001b[38;5;124;43mme\u001b[39;49m\u001b[38;5;124;43m'\u001b[39;49m\u001b[43m)\u001b[49m\n",
      "\u001b[0;31mValueError\u001b[0m: invalid literal for int() with base 10: 'me'"
     ]
    }
   ],
   "source": [
    "int('me')"
   ]
  },
  {
   "cell_type": "code",
   "execution_count": 31,
   "id": "01ee2793",
   "metadata": {},
   "outputs": [
    {
     "data": {
      "text/plain": [
       "17"
      ]
     },
     "execution_count": 31,
     "metadata": {},
     "output_type": "execute_result"
    }
   ],
   "source": [
    "int(17.34)"
   ]
  },
  {
   "cell_type": "code",
   "execution_count": 32,
   "id": "4cab9ed5",
   "metadata": {},
   "outputs": [
    {
     "data": {
      "text/plain": [
       "17"
      ]
     },
     "execution_count": 32,
     "metadata": {},
     "output_type": "execute_result"
    }
   ],
   "source": [
    "int(17.99)"
   ]
  },
  {
   "cell_type": "code",
   "execution_count": 33,
   "id": "99d0b4da",
   "metadata": {},
   "outputs": [
    {
     "data": {
      "text/plain": [
       "34.0"
      ]
     },
     "execution_count": 33,
     "metadata": {},
     "output_type": "execute_result"
    }
   ],
   "source": [
    "float(34)"
   ]
  },
  {
   "cell_type": "code",
   "execution_count": 34,
   "id": "a11213fe",
   "metadata": {},
   "outputs": [
    {
     "data": {
      "text/plain": [
       "34.5"
      ]
     },
     "execution_count": 34,
     "metadata": {},
     "output_type": "execute_result"
    }
   ],
   "source": [
    "float('34.5')"
   ]
  },
  {
   "cell_type": "code",
   "execution_count": 35,
   "id": "df79a828",
   "metadata": {},
   "outputs": [
    {
     "ename": "ValueError",
     "evalue": "could not convert string to float: 'me'",
     "output_type": "error",
     "traceback": [
      "\u001b[0;31m---------------------------------------------------------------------------\u001b[0m",
      "\u001b[0;31mValueError\u001b[0m                                Traceback (most recent call last)",
      "Cell \u001b[0;32mIn[35], line 1\u001b[0m\n\u001b[0;32m----> 1\u001b[0m \u001b[38;5;28;43mfloat\u001b[39;49m\u001b[43m(\u001b[49m\u001b[38;5;124;43m'\u001b[39;49m\u001b[38;5;124;43mme\u001b[39;49m\u001b[38;5;124;43m'\u001b[39;49m\u001b[43m)\u001b[49m\n",
      "\u001b[0;31mValueError\u001b[0m: could not convert string to float: 'me'"
     ]
    }
   ],
   "source": [
    "float('me')"
   ]
  },
  {
   "cell_type": "code",
   "execution_count": 36,
   "id": "d73bb489",
   "metadata": {},
   "outputs": [
    {
     "data": {
      "text/plain": [
       "'20'"
      ]
     },
     "execution_count": 36,
     "metadata": {},
     "output_type": "execute_result"
    }
   ],
   "source": [
    "str(20)"
   ]
  },
  {
   "cell_type": "code",
   "execution_count": 37,
   "id": "367d7bdd",
   "metadata": {},
   "outputs": [
    {
     "data": {
      "text/plain": [
       "'2037.5'"
      ]
     },
     "execution_count": 37,
     "metadata": {},
     "output_type": "execute_result"
    }
   ],
   "source": [
    "'20'+str(37.5)"
   ]
  },
  {
   "cell_type": "code",
   "execution_count": 39,
   "id": "803f5285",
   "metadata": {},
   "outputs": [
    {
     "data": {
      "text/plain": [
       "17"
      ]
     },
     "execution_count": 39,
     "metadata": {},
     "output_type": "execute_result"
    }
   ],
   "source": [
    "int(float('17.8'))"
   ]
  },
  {
   "cell_type": "code",
   "execution_count": null,
   "id": "ecdd9791",
   "metadata": {},
   "outputs": [],
   "source": []
  }
 ],
 "metadata": {
  "kernelspec": {
   "display_name": "dsi_participant",
   "language": "python",
   "name": "python3"
  },
  "language_info": {
   "codemirror_mode": {
    "name": "ipython",
    "version": 3
   },
   "file_extension": ".py",
   "mimetype": "text/x-python",
   "name": "python",
   "nbconvert_exporter": "python",
   "pygments_lexer": "ipython3",
   "version": "3.9.21"
  }
 },
 "nbformat": 4,
 "nbformat_minor": 5
}
